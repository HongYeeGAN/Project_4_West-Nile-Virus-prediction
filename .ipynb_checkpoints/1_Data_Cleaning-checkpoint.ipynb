{
 "cells": [
  {
   "cell_type": "code",
   "execution_count": 1,
   "metadata": {},
   "outputs": [],
   "source": [
    "import pandas as pd\n",
    "import numpy as np\n",
    "from math import sin, cos, sqrt, atan2, radians"
   ]
  },
  {
   "cell_type": "markdown",
   "metadata": {},
   "source": [
    "# Train dataset"
   ]
  },
  {
   "cell_type": "code",
   "execution_count": 274,
   "metadata": {},
   "outputs": [],
   "source": [
    "train_df = pd.read_csv(\"./datasets/train.csv\")"
   ]
  },
  {
   "cell_type": "code",
   "execution_count": 275,
   "metadata": {},
   "outputs": [
    {
     "name": "stdout",
     "output_type": "stream",
     "text": [
      "<class 'pandas.core.frame.DataFrame'>\n",
      "RangeIndex: 10506 entries, 0 to 10505\n",
      "Data columns (total 12 columns):\n",
      " #   Column                  Non-Null Count  Dtype  \n",
      "---  ------                  --------------  -----  \n",
      " 0   Date                    10506 non-null  object \n",
      " 1   Address                 10506 non-null  object \n",
      " 2   Species                 10506 non-null  object \n",
      " 3   Block                   10506 non-null  int64  \n",
      " 4   Street                  10506 non-null  object \n",
      " 5   Trap                    10506 non-null  object \n",
      " 6   AddressNumberAndStreet  10506 non-null  object \n",
      " 7   Latitude                10506 non-null  float64\n",
      " 8   Longitude               10506 non-null  float64\n",
      " 9   AddressAccuracy         10506 non-null  int64  \n",
      " 10  NumMosquitos            10506 non-null  int64  \n",
      " 11  WnvPresent              10506 non-null  int64  \n",
      "dtypes: float64(2), int64(4), object(6)\n",
      "memory usage: 985.1+ KB\n"
     ]
    }
   ],
   "source": [
    "train_df.info()"
   ]
  },
  {
   "cell_type": "code",
   "execution_count": 276,
   "metadata": {},
   "outputs": [
    {
     "data": {
      "text/plain": [
       "(10506, 12)"
      ]
     },
     "execution_count": 276,
     "metadata": {},
     "output_type": "execute_result"
    }
   ],
   "source": [
    "train_df.shape"
   ]
  },
  {
   "cell_type": "code",
   "execution_count": 277,
   "metadata": {},
   "outputs": [
    {
     "data": {
      "text/plain": [
       "0    0.947554\n",
       "1    0.052446\n",
       "Name: WnvPresent, dtype: float64"
      ]
     },
     "execution_count": 277,
     "metadata": {},
     "output_type": "execute_result"
    }
   ],
   "source": [
    "#94.7 of traps were negative on WMNV\n",
    "train_df.WnvPresent.value_counts(normalize=True)"
   ]
  },
  {
   "cell_type": "code",
   "execution_count": 278,
   "metadata": {
    "scrolled": true
   },
   "outputs": [
    {
     "data": {
      "text/plain": [
       "CULEX PIPIENS/RESTUANS    0.452313\n",
       "CULEX RESTUANS            0.260803\n",
       "CULEX PIPIENS             0.256901\n",
       "CULEX TERRITANS           0.021131\n",
       "CULEX SALINARIUS          0.008186\n",
       "CULEX TARSALIS            0.000571\n",
       "CULEX ERRATICUS           0.000095\n",
       "Name: Species, dtype: float64"
      ]
     },
     "execution_count": 278,
     "metadata": {},
     "output_type": "execute_result"
    }
   ],
   "source": [
    "train_df[\"Species\"].value_counts(normalize=True)"
   ]
  },
  {
   "cell_type": "code",
   "execution_count": 279,
   "metadata": {},
   "outputs": [
    {
     "data": {
      "text/plain": [
       "1019"
      ]
     },
     "execution_count": 279,
     "metadata": {},
     "output_type": "execute_result"
    }
   ],
   "source": [
    "#check how many rows with more than 50 mosqusito\n",
    "len(train_df[train_df['NumMosquitos'] == 50])"
   ]
  },
  {
   "cell_type": "code",
   "execution_count": 280,
   "metadata": {},
   "outputs": [],
   "source": [
    "groupby_cols = [col for col in train_df.columns if col != \"NumMosquitos\"]"
   ]
  },
  {
   "cell_type": "code",
   "execution_count": 281,
   "metadata": {},
   "outputs": [],
   "source": [
    "train_df = train_df.groupby(groupby_cols)[\"NumMosquitos\"].sum().reset_index(name=\"NumMosquitos\")"
   ]
  },
  {
   "cell_type": "code",
   "execution_count": 282,
   "metadata": {},
   "outputs": [
    {
     "data": {
      "text/plain": [
       "(8610, 12)"
      ]
     },
     "execution_count": 282,
     "metadata": {},
     "output_type": "execute_result"
    }
   ],
   "source": [
    "train_df.shape"
   ]
  },
  {
   "cell_type": "code",
   "execution_count": 283,
   "metadata": {},
   "outputs": [
    {
     "data": {
      "text/html": [
       "<div>\n",
       "<style scoped>\n",
       "    .dataframe tbody tr th:only-of-type {\n",
       "        vertical-align: middle;\n",
       "    }\n",
       "\n",
       "    .dataframe tbody tr th {\n",
       "        vertical-align: top;\n",
       "    }\n",
       "\n",
       "    .dataframe thead th {\n",
       "        text-align: right;\n",
       "    }\n",
       "</style>\n",
       "<table border=\"1\" class=\"dataframe\">\n",
       "  <thead>\n",
       "    <tr style=\"text-align: right;\">\n",
       "      <th></th>\n",
       "      <th>Date</th>\n",
       "      <th>Address</th>\n",
       "      <th>Species</th>\n",
       "      <th>Block</th>\n",
       "      <th>Street</th>\n",
       "      <th>Trap</th>\n",
       "      <th>AddressNumberAndStreet</th>\n",
       "      <th>Latitude</th>\n",
       "      <th>Longitude</th>\n",
       "      <th>AddressAccuracy</th>\n",
       "      <th>WnvPresent</th>\n",
       "      <th>NumMosquitos</th>\n",
       "    </tr>\n",
       "  </thead>\n",
       "  <tbody>\n",
       "    <tr>\n",
       "      <th>0</th>\n",
       "      <td>2007-05-29</td>\n",
       "      <td>1100 Roosevelt Road, Chicago, IL 60608, USA</td>\n",
       "      <td>CULEX PIPIENS/RESTUANS</td>\n",
       "      <td>11</td>\n",
       "      <td>W ROOSEVELT</td>\n",
       "      <td>T048</td>\n",
       "      <td>1100  W ROOSEVELT, Chicago, IL</td>\n",
       "      <td>41.867108</td>\n",
       "      <td>-87.654224</td>\n",
       "      <td>8</td>\n",
       "      <td>0</td>\n",
       "      <td>1</td>\n",
       "    </tr>\n",
       "    <tr>\n",
       "      <th>1</th>\n",
       "      <td>2007-05-29</td>\n",
       "      <td>1100 Roosevelt Road, Chicago, IL 60608, USA</td>\n",
       "      <td>CULEX RESTUANS</td>\n",
       "      <td>11</td>\n",
       "      <td>W ROOSEVELT</td>\n",
       "      <td>T048</td>\n",
       "      <td>1100  W ROOSEVELT, Chicago, IL</td>\n",
       "      <td>41.867108</td>\n",
       "      <td>-87.654224</td>\n",
       "      <td>8</td>\n",
       "      <td>0</td>\n",
       "      <td>2</td>\n",
       "    </tr>\n",
       "    <tr>\n",
       "      <th>2</th>\n",
       "      <td>2007-05-29</td>\n",
       "      <td>1100 South Peoria Street, Chicago, IL 60608, USA</td>\n",
       "      <td>CULEX RESTUANS</td>\n",
       "      <td>11</td>\n",
       "      <td>S PEORIA ST</td>\n",
       "      <td>T091</td>\n",
       "      <td>1100  S PEORIA ST, Chicago, IL</td>\n",
       "      <td>41.862292</td>\n",
       "      <td>-87.648860</td>\n",
       "      <td>8</td>\n",
       "      <td>0</td>\n",
       "      <td>1</td>\n",
       "    </tr>\n",
       "    <tr>\n",
       "      <th>3</th>\n",
       "      <td>2007-05-29</td>\n",
       "      <td>1100 West Chicago Avenue, Chicago, IL 60642, USA</td>\n",
       "      <td>CULEX RESTUANS</td>\n",
       "      <td>11</td>\n",
       "      <td>W CHICAGO</td>\n",
       "      <td>T049</td>\n",
       "      <td>1100  W CHICAGO, Chicago, IL</td>\n",
       "      <td>41.896282</td>\n",
       "      <td>-87.655232</td>\n",
       "      <td>8</td>\n",
       "      <td>0</td>\n",
       "      <td>1</td>\n",
       "    </tr>\n",
       "    <tr>\n",
       "      <th>4</th>\n",
       "      <td>2007-05-29</td>\n",
       "      <td>1500 North Long Avenue, Chicago, IL 60651, USA</td>\n",
       "      <td>CULEX RESTUANS</td>\n",
       "      <td>15</td>\n",
       "      <td>N LONG AVE</td>\n",
       "      <td>T153</td>\n",
       "      <td>1500  N LONG AVE, Chicago, IL</td>\n",
       "      <td>41.907645</td>\n",
       "      <td>-87.760886</td>\n",
       "      <td>8</td>\n",
       "      <td>0</td>\n",
       "      <td>1</td>\n",
       "    </tr>\n",
       "  </tbody>\n",
       "</table>\n",
       "</div>"
      ],
      "text/plain": [
       "         Date                                           Address  \\\n",
       "0  2007-05-29       1100 Roosevelt Road, Chicago, IL 60608, USA   \n",
       "1  2007-05-29       1100 Roosevelt Road, Chicago, IL 60608, USA   \n",
       "2  2007-05-29  1100 South Peoria Street, Chicago, IL 60608, USA   \n",
       "3  2007-05-29  1100 West Chicago Avenue, Chicago, IL 60642, USA   \n",
       "4  2007-05-29    1500 North Long Avenue, Chicago, IL 60651, USA   \n",
       "\n",
       "                  Species  Block        Street  Trap  \\\n",
       "0  CULEX PIPIENS/RESTUANS     11   W ROOSEVELT  T048   \n",
       "1          CULEX RESTUANS     11   W ROOSEVELT  T048   \n",
       "2          CULEX RESTUANS     11   S PEORIA ST  T091   \n",
       "3          CULEX RESTUANS     11     W CHICAGO  T049   \n",
       "4          CULEX RESTUANS     15    N LONG AVE  T153   \n",
       "\n",
       "           AddressNumberAndStreet   Latitude  Longitude  AddressAccuracy  \\\n",
       "0  1100  W ROOSEVELT, Chicago, IL  41.867108 -87.654224                8   \n",
       "1  1100  W ROOSEVELT, Chicago, IL  41.867108 -87.654224                8   \n",
       "2  1100  S PEORIA ST, Chicago, IL  41.862292 -87.648860                8   \n",
       "3    1100  W CHICAGO, Chicago, IL  41.896282 -87.655232                8   \n",
       "4   1500  N LONG AVE, Chicago, IL  41.907645 -87.760886                8   \n",
       "\n",
       "   WnvPresent  NumMosquitos  \n",
       "0           0             1  \n",
       "1           0             2  \n",
       "2           0             1  \n",
       "3           0             1  \n",
       "4           0             1  "
      ]
     },
     "execution_count": 283,
     "metadata": {},
     "output_type": "execute_result"
    }
   ],
   "source": [
    "train_df.head()"
   ]
  },
  {
   "cell_type": "code",
   "execution_count": 284,
   "metadata": {},
   "outputs": [],
   "source": [
    "train_df[\"Date\"] = pd.to_datetime(train_df[\"Date\"])"
   ]
  },
  {
   "cell_type": "code",
   "execution_count": 285,
   "metadata": {},
   "outputs": [],
   "source": [
    "train_df[\"Day\"] = train_df[\"Date\"].dt.day"
   ]
  },
  {
   "cell_type": "code",
   "execution_count": 286,
   "metadata": {},
   "outputs": [],
   "source": [
    "train_df[\"Month\"] = train_df['Date'].dt.month"
   ]
  },
  {
   "cell_type": "code",
   "execution_count": 287,
   "metadata": {},
   "outputs": [],
   "source": [
    "train_df[\"Year\"] = train_df[\"Date\"].dt.year"
   ]
  },
  {
   "cell_type": "code",
   "execution_count": 288,
   "metadata": {},
   "outputs": [
    {
     "data": {
      "text/html": [
       "<div>\n",
       "<style scoped>\n",
       "    .dataframe tbody tr th:only-of-type {\n",
       "        vertical-align: middle;\n",
       "    }\n",
       "\n",
       "    .dataframe tbody tr th {\n",
       "        vertical-align: top;\n",
       "    }\n",
       "\n",
       "    .dataframe thead th {\n",
       "        text-align: right;\n",
       "    }\n",
       "</style>\n",
       "<table border=\"1\" class=\"dataframe\">\n",
       "  <thead>\n",
       "    <tr style=\"text-align: right;\">\n",
       "      <th></th>\n",
       "      <th>Date</th>\n",
       "      <th>Address</th>\n",
       "      <th>Species</th>\n",
       "      <th>Block</th>\n",
       "      <th>Street</th>\n",
       "      <th>Trap</th>\n",
       "      <th>AddressNumberAndStreet</th>\n",
       "      <th>Latitude</th>\n",
       "      <th>Longitude</th>\n",
       "      <th>AddressAccuracy</th>\n",
       "      <th>WnvPresent</th>\n",
       "      <th>NumMosquitos</th>\n",
       "      <th>Day</th>\n",
       "      <th>Month</th>\n",
       "      <th>Year</th>\n",
       "    </tr>\n",
       "  </thead>\n",
       "  <tbody>\n",
       "    <tr>\n",
       "      <th>0</th>\n",
       "      <td>2007-05-29</td>\n",
       "      <td>1100 Roosevelt Road, Chicago, IL 60608, USA</td>\n",
       "      <td>CULEX PIPIENS/RESTUANS</td>\n",
       "      <td>11</td>\n",
       "      <td>W ROOSEVELT</td>\n",
       "      <td>T048</td>\n",
       "      <td>1100  W ROOSEVELT, Chicago, IL</td>\n",
       "      <td>41.867108</td>\n",
       "      <td>-87.654224</td>\n",
       "      <td>8</td>\n",
       "      <td>0</td>\n",
       "      <td>1</td>\n",
       "      <td>29</td>\n",
       "      <td>5</td>\n",
       "      <td>2007</td>\n",
       "    </tr>\n",
       "    <tr>\n",
       "      <th>1</th>\n",
       "      <td>2007-05-29</td>\n",
       "      <td>1100 Roosevelt Road, Chicago, IL 60608, USA</td>\n",
       "      <td>CULEX RESTUANS</td>\n",
       "      <td>11</td>\n",
       "      <td>W ROOSEVELT</td>\n",
       "      <td>T048</td>\n",
       "      <td>1100  W ROOSEVELT, Chicago, IL</td>\n",
       "      <td>41.867108</td>\n",
       "      <td>-87.654224</td>\n",
       "      <td>8</td>\n",
       "      <td>0</td>\n",
       "      <td>2</td>\n",
       "      <td>29</td>\n",
       "      <td>5</td>\n",
       "      <td>2007</td>\n",
       "    </tr>\n",
       "    <tr>\n",
       "      <th>2</th>\n",
       "      <td>2007-05-29</td>\n",
       "      <td>1100 South Peoria Street, Chicago, IL 60608, USA</td>\n",
       "      <td>CULEX RESTUANS</td>\n",
       "      <td>11</td>\n",
       "      <td>S PEORIA ST</td>\n",
       "      <td>T091</td>\n",
       "      <td>1100  S PEORIA ST, Chicago, IL</td>\n",
       "      <td>41.862292</td>\n",
       "      <td>-87.648860</td>\n",
       "      <td>8</td>\n",
       "      <td>0</td>\n",
       "      <td>1</td>\n",
       "      <td>29</td>\n",
       "      <td>5</td>\n",
       "      <td>2007</td>\n",
       "    </tr>\n",
       "    <tr>\n",
       "      <th>3</th>\n",
       "      <td>2007-05-29</td>\n",
       "      <td>1100 West Chicago Avenue, Chicago, IL 60642, USA</td>\n",
       "      <td>CULEX RESTUANS</td>\n",
       "      <td>11</td>\n",
       "      <td>W CHICAGO</td>\n",
       "      <td>T049</td>\n",
       "      <td>1100  W CHICAGO, Chicago, IL</td>\n",
       "      <td>41.896282</td>\n",
       "      <td>-87.655232</td>\n",
       "      <td>8</td>\n",
       "      <td>0</td>\n",
       "      <td>1</td>\n",
       "      <td>29</td>\n",
       "      <td>5</td>\n",
       "      <td>2007</td>\n",
       "    </tr>\n",
       "    <tr>\n",
       "      <th>4</th>\n",
       "      <td>2007-05-29</td>\n",
       "      <td>1500 North Long Avenue, Chicago, IL 60651, USA</td>\n",
       "      <td>CULEX RESTUANS</td>\n",
       "      <td>15</td>\n",
       "      <td>N LONG AVE</td>\n",
       "      <td>T153</td>\n",
       "      <td>1500  N LONG AVE, Chicago, IL</td>\n",
       "      <td>41.907645</td>\n",
       "      <td>-87.760886</td>\n",
       "      <td>8</td>\n",
       "      <td>0</td>\n",
       "      <td>1</td>\n",
       "      <td>29</td>\n",
       "      <td>5</td>\n",
       "      <td>2007</td>\n",
       "    </tr>\n",
       "  </tbody>\n",
       "</table>\n",
       "</div>"
      ],
      "text/plain": [
       "        Date                                           Address  \\\n",
       "0 2007-05-29       1100 Roosevelt Road, Chicago, IL 60608, USA   \n",
       "1 2007-05-29       1100 Roosevelt Road, Chicago, IL 60608, USA   \n",
       "2 2007-05-29  1100 South Peoria Street, Chicago, IL 60608, USA   \n",
       "3 2007-05-29  1100 West Chicago Avenue, Chicago, IL 60642, USA   \n",
       "4 2007-05-29    1500 North Long Avenue, Chicago, IL 60651, USA   \n",
       "\n",
       "                  Species  Block        Street  Trap  \\\n",
       "0  CULEX PIPIENS/RESTUANS     11   W ROOSEVELT  T048   \n",
       "1          CULEX RESTUANS     11   W ROOSEVELT  T048   \n",
       "2          CULEX RESTUANS     11   S PEORIA ST  T091   \n",
       "3          CULEX RESTUANS     11     W CHICAGO  T049   \n",
       "4          CULEX RESTUANS     15    N LONG AVE  T153   \n",
       "\n",
       "           AddressNumberAndStreet   Latitude  Longitude  AddressAccuracy  \\\n",
       "0  1100  W ROOSEVELT, Chicago, IL  41.867108 -87.654224                8   \n",
       "1  1100  W ROOSEVELT, Chicago, IL  41.867108 -87.654224                8   \n",
       "2  1100  S PEORIA ST, Chicago, IL  41.862292 -87.648860                8   \n",
       "3    1100  W CHICAGO, Chicago, IL  41.896282 -87.655232                8   \n",
       "4   1500  N LONG AVE, Chicago, IL  41.907645 -87.760886                8   \n",
       "\n",
       "   WnvPresent  NumMosquitos  Day  Month  Year  \n",
       "0           0             1   29      5  2007  \n",
       "1           0             2   29      5  2007  \n",
       "2           0             1   29      5  2007  \n",
       "3           0             1   29      5  2007  \n",
       "4           0             1   29      5  2007  "
      ]
     },
     "execution_count": 288,
     "metadata": {},
     "output_type": "execute_result"
    }
   ],
   "source": [
    "train_df.head()"
   ]
  },
  {
   "cell_type": "code",
   "execution_count": 289,
   "metadata": {},
   "outputs": [
    {
     "data": {
      "text/plain": [
       "2007    0.329501\n",
       "2013    0.239024\n",
       "2009    0.223113\n",
       "2011    0.208362\n",
       "Name: Year, dtype: float64"
      ]
     },
     "execution_count": 289,
     "metadata": {},
     "output_type": "execute_result"
    }
   ],
   "source": [
    "train_df['Year'].value_counts(normalize=True)"
   ]
  },
  {
   "cell_type": "code",
   "execution_count": 290,
   "metadata": {},
   "outputs": [
    {
     "data": {
      "text/plain": [
       "8     0.329268\n",
       "7     0.246225\n",
       "9     0.229152\n",
       "6     0.155285\n",
       "10    0.030662\n",
       "5     0.009408\n",
       "Name: Month, dtype: float64"
      ]
     },
     "execution_count": 290,
     "metadata": {},
     "output_type": "execute_result"
    }
   ],
   "source": [
    "train_df['Month'].value_counts(normalize=True)"
   ]
  },
  {
   "cell_type": "code",
   "execution_count": 291,
   "metadata": {},
   "outputs": [
    {
     "data": {
      "text/plain": [
       "12    0.082811\n",
       "19    0.066086\n",
       "1     0.065505\n",
       "15    0.062718\n",
       "24    0.057724\n",
       "25    0.057375\n",
       "17    0.044019\n",
       "7     0.042509\n",
       "26    0.040534\n",
       "5     0.037398\n",
       "29    0.036934\n",
       "21    0.032985\n",
       "8     0.032753\n",
       "2     0.032636\n",
       "4     0.031359\n",
       "11    0.030662\n",
       "6     0.029501\n",
       "27    0.028339\n",
       "22    0.026481\n",
       "18    0.024274\n",
       "14    0.023345\n",
       "30    0.016841\n",
       "28    0.015912\n",
       "13    0.015563\n",
       "10    0.015215\n",
       "16    0.013937\n",
       "31    0.013705\n",
       "23    0.011614\n",
       "3     0.006736\n",
       "9     0.004530\n",
       "Name: Day, dtype: float64"
      ]
     },
     "execution_count": 291,
     "metadata": {},
     "output_type": "execute_result"
    }
   ],
   "source": [
    "train_df['Day'].value_counts(normalize=True)"
   ]
  },
  {
   "cell_type": "code",
   "execution_count": 292,
   "metadata": {},
   "outputs": [],
   "source": [
    "#Create function to calculate distance\n",
    "def distance(lat1, lon1, lat2, lon2):\n",
    "    \n",
    "    r = 6373.0\n",
    "    lat1 = radians(lat1)\n",
    "    lon1 = radians(lon1)\n",
    "    lat2 = radians(lat2)\n",
    "    lon2 = radians(lon2)\n",
    "    \n",
    "    dlon = lon2 - lon1\n",
    "    dlat = lat2 - lat1\n",
    "\n",
    "    a = sin(dlat / 2)**2 + cos(lat1) * cos(lat2) * sin(dlon / 2)**2\n",
    "    c = 2 * atan2(sqrt(a), sqrt(1 - a))\n",
    "\n",
    "    distance = r * c\n",
    "\n",
    "    return round(distance, 3)\n",
    "\n",
    "    "
   ]
  },
  {
   "cell_type": "code",
   "execution_count": 268,
   "metadata": {},
   "outputs": [],
   "source": [
    "def nearest_station(df):\n",
    "    \n",
    "    weather_station = {\n",
    "    \"station_1\": {\n",
    "        \"name\": \"CHICAGO O'HARE INTERNATIONAL AIRPORT\",\n",
    "        \"lat\": 41.995,\n",
    "        \"lon\": -87.933,\n",
    "        \"elev\": 662\n",
    "        },\n",
    "    \"station_2\": {\n",
    "        \"name\": \"CHICAGO MIDWAY INTL ARPT\",\n",
    "        \"lat\": 41.786,\n",
    "        \"lon\": -87.752,\n",
    "        \"elev\": 612\n",
    "    }\n",
    "}\n",
    "\n",
    "    \n",
    "    for i in range(len(df)):\n",
    "        lat = df.iloc[i][\"Latitude\"]\n",
    "        lon = df.iloc[i][\"Longitude\"]\n",
    "        \n",
    "        dist_stn1 = abs(distance(lat, lon,\n",
    "                             weather_station[\"station_1\"]['lat'], \n",
    "                             weather_station[\"station_1\"]['lon']))\n",
    "        \n",
    "        dist_stn2 = abs(distance(lat, lon,\n",
    "                             weather_station[\"station_2\"]['lat'], \n",
    "                             weather_station[\"station_2\"]['lon']))\n",
    "        \n",
    "        if dist_stn1 > dist_stn2:\n",
    "            df.loc[i, \"Station\"] = 2\n",
    "        else:\n",
    "            df.loc[i, \"Station\"] = 1\n",
    "            \n",
    "    "
   ]
  },
  {
   "cell_type": "code",
   "execution_count": 295,
   "metadata": {},
   "outputs": [],
   "source": [
    "nearest_station(train_df)"
   ]
  },
  {
   "cell_type": "code",
   "execution_count": 320,
   "metadata": {},
   "outputs": [],
   "source": [
    "train_df[\"Station\"] = train_df[\"Station\"].astype(int)"
   ]
  },
  {
   "cell_type": "code",
   "execution_count": 321,
   "metadata": {},
   "outputs": [
    {
     "name": "stdout",
     "output_type": "stream",
     "text": [
      "<class 'pandas.core.frame.DataFrame'>\n",
      "RangeIndex: 8610 entries, 0 to 8609\n",
      "Data columns (total 16 columns):\n",
      " #   Column                  Non-Null Count  Dtype         \n",
      "---  ------                  --------------  -----         \n",
      " 0   Date                    8610 non-null   datetime64[ns]\n",
      " 1   Address                 8610 non-null   object        \n",
      " 2   Species                 8610 non-null   object        \n",
      " 3   Block                   8610 non-null   int64         \n",
      " 4   Street                  8610 non-null   object        \n",
      " 5   Trap                    8610 non-null   object        \n",
      " 6   AddressNumberAndStreet  8610 non-null   object        \n",
      " 7   Latitude                8610 non-null   float64       \n",
      " 8   Longitude               8610 non-null   float64       \n",
      " 9   AddressAccuracy         8610 non-null   int64         \n",
      " 10  WnvPresent              8610 non-null   int64         \n",
      " 11  NumMosquitos            8610 non-null   int64         \n",
      " 12  Day                     8610 non-null   int64         \n",
      " 13  Month                   8610 non-null   int64         \n",
      " 14  Year                    8610 non-null   int64         \n",
      " 15  Station                 8610 non-null   int64         \n",
      "dtypes: datetime64[ns](1), float64(2), int64(8), object(5)\n",
      "memory usage: 1.1+ MB\n"
     ]
    }
   ],
   "source": [
    "train_df.info()"
   ]
  },
  {
   "cell_type": "code",
   "execution_count": 322,
   "metadata": {
    "scrolled": false
   },
   "outputs": [
    {
     "data": {
      "text/plain": [
       "2    6090\n",
       "1    2520\n",
       "Name: Station, dtype: int64"
      ]
     },
     "execution_count": 322,
     "metadata": {},
     "output_type": "execute_result"
    }
   ],
   "source": [
    "train_df[\"Station\"].value_counts()"
   ]
  },
  {
   "cell_type": "code",
   "execution_count": 226,
   "metadata": {},
   "outputs": [
    {
     "data": {
      "text/plain": [
       "T900     182\n",
       "T115     158\n",
       "T135     153\n",
       "T002     150\n",
       "T151     144\n",
       "        ... \n",
       "T078       6\n",
       "T076       5\n",
       "T094B      5\n",
       "T237       3\n",
       "T040       2\n",
       "Name: Trap, Length: 136, dtype: int64"
      ]
     },
     "execution_count": 226,
     "metadata": {},
     "output_type": "execute_result"
    }
   ],
   "source": [
    "train_df[\"Trap\"].sort_values(ascending=False).value_counts()"
   ]
  },
  {
   "cell_type": "code",
   "execution_count": 326,
   "metadata": {},
   "outputs": [
    {
     "data": {
      "text/plain": [
       "T138    57\n",
       "T086    48\n",
       "T115    47\n",
       "T096    46\n",
       "T002    45\n",
       "        ..\n",
       "T004    12\n",
       "T072    11\n",
       "T078     6\n",
       "T076     5\n",
       "T040     2\n",
       "Name: Trap, Length: 116, dtype: int64"
      ]
     },
     "execution_count": 326,
     "metadata": {},
     "output_type": "execute_result"
    }
   ],
   "source": [
    "train_df[train_df[\"Year\"] == 2007][\"Trap\"].value_counts()"
   ]
  },
  {
   "cell_type": "code",
   "execution_count": 327,
   "metadata": {},
   "outputs": [
    {
     "data": {
      "text/plain": [
       "T900    60\n",
       "T048    46\n",
       "T135    44\n",
       "T031    44\n",
       "T115    42\n",
       "        ..\n",
       "T224     8\n",
       "T229     8\n",
       "T081     8\n",
       "T226     7\n",
       "T045     1\n",
       "Name: Trap, Length: 73, dtype: int64"
      ]
     },
     "execution_count": 327,
     "metadata": {},
     "output_type": "execute_result"
    }
   ],
   "source": [
    "train_df[train_df[\"Year\"] == 2009][\"Trap\"].value_counts()"
   ]
  },
  {
   "cell_type": "code",
   "execution_count": 328,
   "metadata": {},
   "outputs": [
    {
     "data": {
      "text/plain": [
       "T900    65\n",
       "T903    44\n",
       "T027    43\n",
       "T151    42\n",
       "T031    42\n",
       "        ..\n",
       "T148     6\n",
       "T236     6\n",
       "T043     5\n",
       "T077     5\n",
       "T237     3\n",
       "Name: Trap, Length: 80, dtype: int64"
      ]
     },
     "execution_count": 328,
     "metadata": {},
     "output_type": "execute_result"
    }
   ],
   "source": [
    "train_df[train_df[\"Year\"] == 2011][\"Trap\"].value_counts()"
   ]
  },
  {
   "cell_type": "code",
   "execution_count": 329,
   "metadata": {},
   "outputs": [
    {
     "data": {
      "text/plain": [
       "T900     57\n",
       "T054     38\n",
       "T002     37\n",
       "T209     37\n",
       "T227     36\n",
       "         ..\n",
       "T039     18\n",
       "T903     17\n",
       "T077     15\n",
       "T054C     9\n",
       "T094B     5\n",
       "Name: Trap, Length: 74, dtype: int64"
      ]
     },
     "execution_count": 329,
     "metadata": {},
     "output_type": "execute_result"
    }
   ],
   "source": [
    "train_df[train_df[\"Year\"] == 2013][\"Trap\"].value_counts()"
   ]
  },
  {
   "cell_type": "markdown",
   "metadata": {},
   "source": [
    "# Spray dataset"
   ]
  },
  {
   "cell_type": "code",
   "execution_count": 142,
   "metadata": {},
   "outputs": [],
   "source": [
    "spray_df = pd.read_csv(\"./datasets/spray.csv\")"
   ]
  },
  {
   "cell_type": "code",
   "execution_count": 143,
   "metadata": {},
   "outputs": [
    {
     "data": {
      "text/html": [
       "<div>\n",
       "<style scoped>\n",
       "    .dataframe tbody tr th:only-of-type {\n",
       "        vertical-align: middle;\n",
       "    }\n",
       "\n",
       "    .dataframe tbody tr th {\n",
       "        vertical-align: top;\n",
       "    }\n",
       "\n",
       "    .dataframe thead th {\n",
       "        text-align: right;\n",
       "    }\n",
       "</style>\n",
       "<table border=\"1\" class=\"dataframe\">\n",
       "  <thead>\n",
       "    <tr style=\"text-align: right;\">\n",
       "      <th></th>\n",
       "      <th>Date</th>\n",
       "      <th>Time</th>\n",
       "      <th>Latitude</th>\n",
       "      <th>Longitude</th>\n",
       "    </tr>\n",
       "  </thead>\n",
       "  <tbody>\n",
       "    <tr>\n",
       "      <th>0</th>\n",
       "      <td>2011-08-29</td>\n",
       "      <td>6:56:58 PM</td>\n",
       "      <td>42.391623</td>\n",
       "      <td>-88.089163</td>\n",
       "    </tr>\n",
       "    <tr>\n",
       "      <th>1</th>\n",
       "      <td>2011-08-29</td>\n",
       "      <td>6:57:08 PM</td>\n",
       "      <td>42.391348</td>\n",
       "      <td>-88.089163</td>\n",
       "    </tr>\n",
       "    <tr>\n",
       "      <th>2</th>\n",
       "      <td>2011-08-29</td>\n",
       "      <td>6:57:18 PM</td>\n",
       "      <td>42.391022</td>\n",
       "      <td>-88.089157</td>\n",
       "    </tr>\n",
       "    <tr>\n",
       "      <th>3</th>\n",
       "      <td>2011-08-29</td>\n",
       "      <td>6:57:28 PM</td>\n",
       "      <td>42.390637</td>\n",
       "      <td>-88.089158</td>\n",
       "    </tr>\n",
       "    <tr>\n",
       "      <th>4</th>\n",
       "      <td>2011-08-29</td>\n",
       "      <td>6:57:38 PM</td>\n",
       "      <td>42.390410</td>\n",
       "      <td>-88.088858</td>\n",
       "    </tr>\n",
       "    <tr>\n",
       "      <th>5</th>\n",
       "      <td>2011-08-29</td>\n",
       "      <td>6:57:48 PM</td>\n",
       "      <td>42.390395</td>\n",
       "      <td>-88.088315</td>\n",
       "    </tr>\n",
       "    <tr>\n",
       "      <th>6</th>\n",
       "      <td>2011-08-29</td>\n",
       "      <td>6:57:58 PM</td>\n",
       "      <td>42.390673</td>\n",
       "      <td>-88.088002</td>\n",
       "    </tr>\n",
       "    <tr>\n",
       "      <th>7</th>\n",
       "      <td>2011-08-29</td>\n",
       "      <td>6:58:08 PM</td>\n",
       "      <td>42.391027</td>\n",
       "      <td>-88.088002</td>\n",
       "    </tr>\n",
       "    <tr>\n",
       "      <th>8</th>\n",
       "      <td>2011-08-29</td>\n",
       "      <td>6:58:18 PM</td>\n",
       "      <td>42.391403</td>\n",
       "      <td>-88.088003</td>\n",
       "    </tr>\n",
       "    <tr>\n",
       "      <th>9</th>\n",
       "      <td>2011-08-29</td>\n",
       "      <td>6:58:28 PM</td>\n",
       "      <td>42.391718</td>\n",
       "      <td>-88.087995</td>\n",
       "    </tr>\n",
       "    <tr>\n",
       "      <th>10</th>\n",
       "      <td>2011-08-29</td>\n",
       "      <td>6:58:38 PM</td>\n",
       "      <td>42.392038</td>\n",
       "      <td>-88.087988</td>\n",
       "    </tr>\n",
       "    <tr>\n",
       "      <th>11</th>\n",
       "      <td>2011-08-29</td>\n",
       "      <td>6:58:48 PM</td>\n",
       "      <td>42.392410</td>\n",
       "      <td>-88.088078</td>\n",
       "    </tr>\n",
       "    <tr>\n",
       "      <th>12</th>\n",
       "      <td>2011-08-29</td>\n",
       "      <td>6:58:58 PM</td>\n",
       "      <td>42.392800</td>\n",
       "      <td>-88.088332</td>\n",
       "    </tr>\n",
       "    <tr>\n",
       "      <th>13</th>\n",
       "      <td>2011-08-29</td>\n",
       "      <td>6:59:08 PM</td>\n",
       "      <td>42.393257</td>\n",
       "      <td>-88.088370</td>\n",
       "    </tr>\n",
       "    <tr>\n",
       "      <th>14</th>\n",
       "      <td>2011-08-29</td>\n",
       "      <td>6:59:18 PM</td>\n",
       "      <td>42.393600</td>\n",
       "      <td>-88.088232</td>\n",
       "    </tr>\n",
       "    <tr>\n",
       "      <th>15</th>\n",
       "      <td>2011-08-29</td>\n",
       "      <td>7:00:08 PM</td>\n",
       "      <td>42.393203</td>\n",
       "      <td>-88.088417</td>\n",
       "    </tr>\n",
       "    <tr>\n",
       "      <th>16</th>\n",
       "      <td>2011-08-29</td>\n",
       "      <td>7:00:18 PM</td>\n",
       "      <td>42.392792</td>\n",
       "      <td>-88.088312</td>\n",
       "    </tr>\n",
       "    <tr>\n",
       "      <th>17</th>\n",
       "      <td>2011-08-29</td>\n",
       "      <td>7:00:28 PM</td>\n",
       "      <td>42.392477</td>\n",
       "      <td>-88.088210</td>\n",
       "    </tr>\n",
       "    <tr>\n",
       "      <th>18</th>\n",
       "      <td>2011-08-29</td>\n",
       "      <td>7:00:38 PM</td>\n",
       "      <td>42.392385</td>\n",
       "      <td>-88.088697</td>\n",
       "    </tr>\n",
       "    <tr>\n",
       "      <th>19</th>\n",
       "      <td>2011-08-29</td>\n",
       "      <td>7:00:48 PM</td>\n",
       "      <td>42.392098</td>\n",
       "      <td>-88.089113</td>\n",
       "    </tr>\n",
       "  </tbody>\n",
       "</table>\n",
       "</div>"
      ],
      "text/plain": [
       "          Date        Time   Latitude  Longitude\n",
       "0   2011-08-29  6:56:58 PM  42.391623 -88.089163\n",
       "1   2011-08-29  6:57:08 PM  42.391348 -88.089163\n",
       "2   2011-08-29  6:57:18 PM  42.391022 -88.089157\n",
       "3   2011-08-29  6:57:28 PM  42.390637 -88.089158\n",
       "4   2011-08-29  6:57:38 PM  42.390410 -88.088858\n",
       "5   2011-08-29  6:57:48 PM  42.390395 -88.088315\n",
       "6   2011-08-29  6:57:58 PM  42.390673 -88.088002\n",
       "7   2011-08-29  6:58:08 PM  42.391027 -88.088002\n",
       "8   2011-08-29  6:58:18 PM  42.391403 -88.088003\n",
       "9   2011-08-29  6:58:28 PM  42.391718 -88.087995\n",
       "10  2011-08-29  6:58:38 PM  42.392038 -88.087988\n",
       "11  2011-08-29  6:58:48 PM  42.392410 -88.088078\n",
       "12  2011-08-29  6:58:58 PM  42.392800 -88.088332\n",
       "13  2011-08-29  6:59:08 PM  42.393257 -88.088370\n",
       "14  2011-08-29  6:59:18 PM  42.393600 -88.088232\n",
       "15  2011-08-29  7:00:08 PM  42.393203 -88.088417\n",
       "16  2011-08-29  7:00:18 PM  42.392792 -88.088312\n",
       "17  2011-08-29  7:00:28 PM  42.392477 -88.088210\n",
       "18  2011-08-29  7:00:38 PM  42.392385 -88.088697\n",
       "19  2011-08-29  7:00:48 PM  42.392098 -88.089113"
      ]
     },
     "execution_count": 143,
     "metadata": {},
     "output_type": "execute_result"
    }
   ],
   "source": [
    "spray_df.head(20)"
   ]
  },
  {
   "cell_type": "code",
   "execution_count": 144,
   "metadata": {},
   "outputs": [
    {
     "name": "stdout",
     "output_type": "stream",
     "text": [
      "<class 'pandas.core.frame.DataFrame'>\n",
      "RangeIndex: 14835 entries, 0 to 14834\n",
      "Data columns (total 4 columns):\n",
      " #   Column     Non-Null Count  Dtype  \n",
      "---  ------     --------------  -----  \n",
      " 0   Date       14835 non-null  object \n",
      " 1   Time       14251 non-null  object \n",
      " 2   Latitude   14835 non-null  float64\n",
      " 3   Longitude  14835 non-null  float64\n",
      "dtypes: float64(2), object(2)\n",
      "memory usage: 463.7+ KB\n"
     ]
    }
   ],
   "source": [
    "spray_df.info()"
   ]
  },
  {
   "cell_type": "code",
   "execution_count": 145,
   "metadata": {},
   "outputs": [
    {
     "data": {
      "text/plain": [
       "Date           0\n",
       "Time         584\n",
       "Latitude       0\n",
       "Longitude      0\n",
       "dtype: int64"
      ]
     },
     "execution_count": 145,
     "metadata": {},
     "output_type": "execute_result"
    }
   ],
   "source": [
    "spray_df.isnull().sum()"
   ]
  },
  {
   "cell_type": "code",
   "execution_count": 146,
   "metadata": {},
   "outputs": [
    {
     "data": {
      "text/html": [
       "<div>\n",
       "<style scoped>\n",
       "    .dataframe tbody tr th:only-of-type {\n",
       "        vertical-align: middle;\n",
       "    }\n",
       "\n",
       "    .dataframe tbody tr th {\n",
       "        vertical-align: top;\n",
       "    }\n",
       "\n",
       "    .dataframe thead th {\n",
       "        text-align: right;\n",
       "    }\n",
       "</style>\n",
       "<table border=\"1\" class=\"dataframe\">\n",
       "  <thead>\n",
       "    <tr style=\"text-align: right;\">\n",
       "      <th></th>\n",
       "      <th>Date</th>\n",
       "      <th>Time</th>\n",
       "      <th>Latitude</th>\n",
       "      <th>Longitude</th>\n",
       "    </tr>\n",
       "  </thead>\n",
       "  <tbody>\n",
       "    <tr>\n",
       "      <th>1030</th>\n",
       "      <td>2011-09-07</td>\n",
       "      <td>NaN</td>\n",
       "      <td>41.987092</td>\n",
       "      <td>-87.794286</td>\n",
       "    </tr>\n",
       "    <tr>\n",
       "      <th>1031</th>\n",
       "      <td>2011-09-07</td>\n",
       "      <td>NaN</td>\n",
       "      <td>41.987620</td>\n",
       "      <td>-87.794382</td>\n",
       "    </tr>\n",
       "    <tr>\n",
       "      <th>1032</th>\n",
       "      <td>2011-09-07</td>\n",
       "      <td>NaN</td>\n",
       "      <td>41.988004</td>\n",
       "      <td>-87.794574</td>\n",
       "    </tr>\n",
       "    <tr>\n",
       "      <th>1033</th>\n",
       "      <td>2011-09-07</td>\n",
       "      <td>NaN</td>\n",
       "      <td>41.988292</td>\n",
       "      <td>-87.795486</td>\n",
       "    </tr>\n",
       "    <tr>\n",
       "      <th>1034</th>\n",
       "      <td>2011-09-07</td>\n",
       "      <td>NaN</td>\n",
       "      <td>41.988100</td>\n",
       "      <td>-87.796014</td>\n",
       "    </tr>\n",
       "    <tr>\n",
       "      <th>...</th>\n",
       "      <td>...</td>\n",
       "      <td>...</td>\n",
       "      <td>...</td>\n",
       "      <td>...</td>\n",
       "    </tr>\n",
       "    <tr>\n",
       "      <th>1609</th>\n",
       "      <td>2011-09-07</td>\n",
       "      <td>NaN</td>\n",
       "      <td>41.995876</td>\n",
       "      <td>-87.811615</td>\n",
       "    </tr>\n",
       "    <tr>\n",
       "      <th>1610</th>\n",
       "      <td>2011-09-07</td>\n",
       "      <td>NaN</td>\n",
       "      <td>41.995972</td>\n",
       "      <td>-87.810271</td>\n",
       "    </tr>\n",
       "    <tr>\n",
       "      <th>1611</th>\n",
       "      <td>2011-09-07</td>\n",
       "      <td>NaN</td>\n",
       "      <td>41.995684</td>\n",
       "      <td>-87.810319</td>\n",
       "    </tr>\n",
       "    <tr>\n",
       "      <th>1612</th>\n",
       "      <td>2011-09-07</td>\n",
       "      <td>NaN</td>\n",
       "      <td>41.994724</td>\n",
       "      <td>-87.810415</td>\n",
       "    </tr>\n",
       "    <tr>\n",
       "      <th>1613</th>\n",
       "      <td>2011-09-07</td>\n",
       "      <td>NaN</td>\n",
       "      <td>41.993092</td>\n",
       "      <td>-87.810415</td>\n",
       "    </tr>\n",
       "  </tbody>\n",
       "</table>\n",
       "<p>584 rows × 4 columns</p>\n",
       "</div>"
      ],
      "text/plain": [
       "            Date Time   Latitude  Longitude\n",
       "1030  2011-09-07  NaN  41.987092 -87.794286\n",
       "1031  2011-09-07  NaN  41.987620 -87.794382\n",
       "1032  2011-09-07  NaN  41.988004 -87.794574\n",
       "1033  2011-09-07  NaN  41.988292 -87.795486\n",
       "1034  2011-09-07  NaN  41.988100 -87.796014\n",
       "...          ...  ...        ...        ...\n",
       "1609  2011-09-07  NaN  41.995876 -87.811615\n",
       "1610  2011-09-07  NaN  41.995972 -87.810271\n",
       "1611  2011-09-07  NaN  41.995684 -87.810319\n",
       "1612  2011-09-07  NaN  41.994724 -87.810415\n",
       "1613  2011-09-07  NaN  41.993092 -87.810415\n",
       "\n",
       "[584 rows x 4 columns]"
      ]
     },
     "execution_count": 146,
     "metadata": {},
     "output_type": "execute_result"
    }
   ],
   "source": [
    "#Do we want to drop rows with time null?? \n",
    "spray_df[spray_df[\"Time\"].isnull()]"
   ]
  },
  {
   "cell_type": "code",
   "execution_count": 147,
   "metadata": {},
   "outputs": [],
   "source": [
    "spray_df[\"Date\"] = pd.to_datetime(spray_df[\"Date\"])"
   ]
  },
  {
   "cell_type": "code",
   "execution_count": 148,
   "metadata": {},
   "outputs": [],
   "source": [
    "spray_df[\"Day\"] = spray_df[\"Date\"].dt.day"
   ]
  },
  {
   "cell_type": "code",
   "execution_count": 149,
   "metadata": {},
   "outputs": [],
   "source": [
    "spray_df[\"Month\"] = spray_df[\"Date\"].dt.month"
   ]
  },
  {
   "cell_type": "code",
   "execution_count": 150,
   "metadata": {},
   "outputs": [],
   "source": [
    "spray_df[\"Year\"] = spray_df[\"Date\"].dt.year"
   ]
  },
  {
   "cell_type": "code",
   "execution_count": 151,
   "metadata": {},
   "outputs": [
    {
     "data": {
      "text/plain": [
       "15    0.179845\n",
       "29    0.161577\n",
       "17    0.148433\n",
       "7     0.142501\n",
       "25    0.108325\n",
       "22    0.106977\n",
       "8     0.080553\n",
       "5     0.062285\n",
       "16    0.009505\n",
       "Name: Day, dtype: float64"
      ]
     },
     "execution_count": 151,
     "metadata": {},
     "output_type": "execute_result"
    }
   ],
   "source": [
    "spray_df[\"Day\"].value_counts(normalize=True)"
   ]
  },
  {
   "cell_type": "code",
   "execution_count": 152,
   "metadata": {},
   "outputs": [
    {
     "data": {
      "text/plain": [
       "8    0.538456\n",
       "7    0.256758\n",
       "9    0.204786\n",
       "Name: Month, dtype: float64"
      ]
     },
     "execution_count": 152,
     "metadata": {},
     "output_type": "execute_result"
    }
   ],
   "source": [
    "spray_df[\"Month\"].value_counts(normalize=True)"
   ]
  },
  {
   "cell_type": "code",
   "execution_count": 153,
   "metadata": {},
   "outputs": [
    {
     "data": {
      "text/plain": [
       "2013    0.851095\n",
       "2011    0.148905\n",
       "Name: Year, dtype: float64"
      ]
     },
     "execution_count": 153,
     "metadata": {},
     "output_type": "execute_result"
    }
   ],
   "source": [
    "spray_df[\"Year\"].value_counts(normalize=True)"
   ]
  },
  {
   "cell_type": "markdown",
   "metadata": {},
   "source": [
    "# Weather dataset"
   ]
  },
  {
   "cell_type": "code",
   "execution_count": 309,
   "metadata": {},
   "outputs": [],
   "source": [
    "weather_df = pd.read_csv(\"./datasets/weather.csv\", na_values=[\"M\"])"
   ]
  },
  {
   "cell_type": "code",
   "execution_count": 310,
   "metadata": {
    "collapsed": true
   },
   "outputs": [
    {
     "name": "stdout",
     "output_type": "stream",
     "text": [
      "Station\n",
      "[1 2]\n",
      "Date\n",
      "['2007-05-01' '2007-05-02' '2007-05-03' ... '2014-10-29' '2014-10-30'\n",
      " '2014-10-31']\n",
      "Tmax\n",
      "[ 83  84  59  60  66  67  78  68  82  80  77  76  70  73  64  65  69  90\n",
      "  62  61  71  79  87  89  88  75  85  86  81  72  63  91  92  93  74  94\n",
      "  54  53  56  57  58  55  50  95  52  47  45  51  48  44  49  46  96  99\n",
      " 100 101  97  98 102 103 104  42  41]\n",
      "Tmin\n",
      "[50 52 42 43 46 48 49 51 53 54 47 60 61 63 56 59 44 57 45 55 66 65 70 68\n",
      " 62 67 64 58 71 69 73 75 72 74 39 41 40 37 34 38 35 36 33 31 32 76 77 29\n",
      " 78 79 80 81 82 83]\n",
      "Tavg\n",
      "[67. 68. 51. 52. 56. 58. nan 60. 59. 65. 70. 69. 71. 61. 55. 57. 73. 72.\n",
      " 53. 62. 63. 74. 75. 78. 76. 77. 66. 80. 64. 81. 82. 79. 85. 84. 83. 50.\n",
      " 49. 46. 48. 45. 54. 47. 44. 40. 41. 38. 39. 42. 37. 43. 86. 87. 89. 92.\n",
      " 88. 91. 93. 94. 90. 36.]\n",
      "Depart\n",
      "[ 14.  nan  -3.   2.   4.   5.  10.  12.  13.  -2.  15.  11.  -4.  -6.\n",
      "   8.  -5.   1.   9.   6.  -9.  -8.   3.   0.  -1.  -7.   7. -14.  18.\n",
      "  16.  22.  21.  20. -10. -16.  17. -12. -11. -15. -17.  19. -13.  23.]\n",
      "DewPoint\n",
      "[51 42 40 41 38 39 30 58 57 59 60 52 44 36 37 33 32 47 45 56 43 31 50 46\n",
      " 49 48 54 53 55 61 63 62 64 65 66 67 69 70 68 71 72 73 35 34 29 27 28 23\n",
      " 24 25 22 26 75 74]\n",
      "WetBulb\n",
      "[56. 57. 47. 48. 50. 49. 46. 54. 53. 62. 63. 60. 61. 51. 59. 58. 43. 44.\n",
      " 45. 65. 66. 67. 64. 52. 55. 69. 68. 70. 72. 71. 73. 74. 76. 42. 39. 40.\n",
      " 41. 35. 33. 34. nan 75. 36. 32. 38. 78. 77. 37.]\n",
      "Heat\n",
      "[ 0. 14. 13.  9.  7. nan  5.  6.  4. 10.  8. 12.  3.  2.  1. 15. 16. 19.\n",
      " 17. 20. 11. 18. 21. 25. 24. 27. 26. 23. 28. 22. 29.]\n",
      "Cool\n",
      "[ 2.  3.  0. nan  5.  4.  6.  8.  7.  9. 10. 13. 11. 12.  1. 15. 16. 17.\n",
      " 14. 20. 19. 18. 21. 22. 24. 27. 23. 26. 28. 29. 25.]\n",
      "Sunrise\n",
      "['0448' '-' '0447' '0446' '0444' '0443' '0442' '0441' '0439' '0438' '0437'\n",
      " '0436' '0435' '0434' '0433' '0432' '0431' '0430' '0429' '0428' '0427'\n",
      " '0426' '0425' '0424' '0423' '0422' '0421' '0420' '0419' '0418' '0417'\n",
      " '0416' '0440' '0445' '0449' '0450' '0451' '0452' '0453' '0454' '0455'\n",
      " '0456' '0457' '0458' '0459' '0500' '0501' '0502' '0503' '0504' '0505'\n",
      " '0506' '0508' '0509' '0510' '0511' '0512' '0513' '0514' '0515' '0516'\n",
      " '0517' '0518' '0519' '0520' '0521' '0522' '0523' '0524' '0525' '0526'\n",
      " '0527' '0528' '0529' '0530' '0531' '0532' '0533' '0535' '0536' '0537'\n",
      " '0538' '0539' '0540' '0541' '0542' '0543' '0544' '0545' '0546' '0547'\n",
      " '0548' '0549' '0550' '0552' '0553' '0554' '0555' '0556' '0557' '0558'\n",
      " '0559' '0600' '0602' '0603' '0604' '0605' '0606' '0607' '0608' '0610'\n",
      " '0611' '0612' '0613' '0614' '0616' '0617' '0618' '0619' '0620' '0622'\n",
      " '0623']\n",
      "Sunset\n",
      "['1849' '-' '1850' '1851' '1852' '1853' '1855' '1856' '1857' '1858' '1859'\n",
      " '1860' '1901' '1902' '1903' '1904' '1905' '1906' '1907' '1908' '1909'\n",
      " '1910' '1911' '1912' '1913' '1914' '1915' '1916' '1917' '1918' '1919'\n",
      " '1920' '1921' '1922' '1923' '1924' '1925' '1926' '1927' '1928' '1929'\n",
      " '1930' '1931' '1900' '1854' '1848' '1846' '1845' '1843' '1842' '1840'\n",
      " '1839' '1837' '1835' '1834' '1832' '1831' '1829' '1827' '1826' '1824'\n",
      " '1822' '1821' '1819' '1817' '1815' '1814' '1812' '1810' '1809' '1807'\n",
      " '1805' '1803' '1760' '1758' '1756' '1755' '1753' '1751' '1749' '1748'\n",
      " '1746' '1744' '1742' '1741' '1739' '1737' '1735' '1734' '1732' '1730'\n",
      " '1729' '1727' '1725' '1724' '1722' '1720' '1719' '1717' '1715' '1714'\n",
      " '1712' '1711' '1709' '1707' '1706' '1704' '1703' '1701' '1660' '1658'\n",
      " '1657' '1656' '1654' '1653' '1651' '1650' '1649' '1647']\n",
      "CodeSum\n",
      "[' ' 'BR' 'BR HZ' 'HZ' 'RA' 'RA BR' 'TSRA RA BR' 'RA VCTS' 'TSRA RA'\n",
      " 'RA HZ' 'TSRA RA BR HZ' 'TSRA BR HZ' 'RA BR HZ VCTS' 'TSRA RA HZ'\n",
      " 'TSRA BR HZ VCTS' 'TSRA' 'TSRA BR HZ FU' 'TSRA RA HZ FU' 'BR HZ FU'\n",
      " 'TSRA RA VCTS' 'HZ VCTS' 'TSRA HZ' 'VCTS' 'RA BR VCTS' 'TSRA RA BR VCTS'\n",
      " 'TS TSRA RA BR HZ VCTS' 'DZ BR' 'TS TSRA RA BR HZ' 'TS TSRA BR HZ'\n",
      " 'RA BR HZ' 'TSRA RA DZ BR HZ' 'TS TSRA RA BR' 'TS RA BR' 'TS TSRA RA'\n",
      " 'TS TSRA RA BR VCTS' 'TS TSRA BR' 'TS RA' 'RA BCFG BR' 'TSRA BR'\n",
      " 'RA DZ FG+ BCFG BR' 'RA FG+ MIFG BR' 'RA DZ' 'RA DZ BR' 'TS TSRA RA HZ'\n",
      " 'TSRA RA FG+ FG BR' 'TSRA DZ FG+ FG BR HZ' 'TS BR' 'RA BR SQ' 'TS TSRA'\n",
      " 'TSRA RA BR HZ VCTS' 'BR VCTS' 'TS' 'FG+ BR HZ' 'RA SN' 'TSRA RA DZ BR'\n",
      " 'DZ BR HZ' 'RA BR FU' 'TS BR HZ' 'DZ' 'FG+ BR' 'FG+ FG BR' 'FG+ MIFG BR'\n",
      " 'TSRA RA FG BR' 'TSRA FG+ BR' 'RA DZ BR HZ' 'RA DZ SN' 'FG+ FG BR HZ'\n",
      " 'TS TSRA RA FG BR' 'BR HZ VCFG' 'TS RA FG+ FG BR' 'TSRA RA FG+ BR'\n",
      " 'RA DZ FG+ FG BR' 'TS TSRA RA VCTS' 'FU' 'TS TSRA VCFG' 'TS TSRA HZ'\n",
      " 'TS TSRA GR RA BR' 'RA FG BR' 'HZ FU' 'RA BR HZ FU' 'MIFG BCFG BR'\n",
      " 'FG+ BCFG BR' 'TSRA RA FG+ FG BR HZ' 'FG+' 'TSRA BR SQ' 'TSRA DZ BR HZ'\n",
      " 'RA BR HZ VCFG' 'RA FG+ BR' 'FG BR HZ' 'TS HZ' 'TS TSRA RA FG BR HZ'\n",
      " 'RA DZ FG+ BR' 'RA DZ FG+ BR HZ' 'TSRA FG+ BR HZ' 'RA BR VCFG'\n",
      " 'TS RA BR HZ' 'BCFG BR' 'RA SN BR']\n",
      "Depth\n",
      "[ 0. nan]\n",
      "Water1\n",
      "[nan]\n",
      "SnowFall\n",
      "['0.0' nan '  T' '0.1']\n",
      "PrecipTotal\n",
      "['0.00' '  T' '0.13' '0.02' '0.38' '0.60' '0.14' '0.07' '0.11' '0.09'\n",
      " '1.01' '0.28' '0.04' '0.08' '0.01' '0.53' '0.19' '0.21' '0.32' '0.39'\n",
      " '0.31' '0.42' '0.27' '0.16' '0.58' '0.93' '0.05' '0.34' '0.15' '0.35' nan\n",
      " '0.40' '0.66' '0.30' '0.24' '0.43' '1.55' '0.92' '0.89' '0.17' '0.03'\n",
      " '1.43' '0.97' '0.26' '1.31' '0.06' '0.46' '0.29' '0.23' '0.41' '0.45'\n",
      " '0.83' '1.33' '0.91' '0.48' '0.37' '0.88' '2.35' '1.96' '0.20' '0.25'\n",
      " '0.18' '0.67' '0.36' '0.33' '1.28' '0.74' '0.76' '0.71' '0.95' '1.46'\n",
      " '0.12' '0.52' '0.64' '0.22' '1.24' '0.72' '0.73' '0.65' '1.61' '1.22'\n",
      " '0.50' '1.05' '2.43' '0.59' '2.90' '2.68' '1.23' '0.62' '6.64' '3.07'\n",
      " '1.44' '1.75' '0.82' '0.80' '0.86' '0.63' '0.55' '1.03' '0.70' '1.73'\n",
      " '1.38' '0.44' '1.14' '1.07' '3.97' '0.87' '0.78' '1.12' '0.68' '0.10'\n",
      " '0.61' '0.54' '1.19' '0.75' '0.84' '1.29' '0.81' '1.15' '1.49' '1.57'\n",
      " '1.02' '1.30' '0.51' '0.85' '0.79' '0.77' '2.79' '3.15' '3.64' '4.73'\n",
      " '1.60' '0.57' '2.24' '1.90' '1.06' '1.88' '0.69' '2.17' '6.86' '0.49'\n",
      " '1.11' '1.21' '0.90' '1.34' '0.47' '0.56' '3.66' '1.09' '1.25' '1.35'\n",
      " '2.20' '1.48' '0.96' '1.16' '1.04' '2.03' '2.09' '1.26' '2.60' '2.06'\n",
      " '3.31' '2.76' '1.82' '0.98' '1.58' '3.17' '1.18']\n",
      "StnPressure\n",
      "[29.1  29.18 29.38 29.44 29.39 29.46 29.31 29.36 29.4  29.57 29.62 29.29\n",
      " 29.21 29.28 29.2  29.26 29.33 29.49 29.54 29.55 29.23 29.13 29.19 29.53\n",
      " 29.6  29.34 29.41 29.47 29.51 29.42 29.43 29.25 29.03 28.82 28.87 28.88\n",
      " 29.16 29.07 28.84 28.91 29.24   nan 29.3  29.12 29.45 29.56 29.32 29.05\n",
      " 29.11 29.06 29.22 29.08 29.14 29.37 29.35 29.15 29.17 29.48 29.52 29.27\n",
      " 29.5  28.59 28.67 28.75 29.02 29.79 29.86 29.63 29.7  28.95 29.01 28.79\n",
      " 28.85 28.97 28.89 28.94 28.93 28.98 28.96 29.   29.66 29.09 28.9  29.04\n",
      " 29.59 29.65 29.58 29.61 29.64 29.71 29.67 28.8  28.73 29.68 28.74 28.55\n",
      " 28.63 28.92 28.99 28.81 28.71 28.69 28.77 28.83]\n",
      "SeaLevel\n",
      "[29.82 30.09 30.08 30.12 30.05 30.04 30.1  30.29 30.28 30.03 30.02 29.94\n",
      " 29.93 29.92 29.91 30.2  30.19 30.24 29.97 29.98 29.84 29.83 30.27 30.25\n",
      " 30.26 30.11 30.06 30.23 30.15 30.14 30.   29.99 29.9  29.77 29.76 29.56\n",
      " 29.54 29.52 29.51 29.79 29.78 29.81 29.55 29.85 30.07 30.16   nan 29.96\n",
      " 29.95 30.13 30.21 30.22 29.88 30.01 29.8  29.89 29.74 29.87 29.86 30.18\n",
      " 30.17 29.34 29.44 29.45 29.71 29.72 30.52 30.53 30.4  30.41 29.67 29.53\n",
      " 29.69 29.61 29.64 29.63 29.66 29.7  30.34 30.33 29.62 29.6  29.75 29.68\n",
      " 29.73 30.31 30.3  30.32 30.37 30.39 29.59 29.65 30.35 30.36 29.48 30.38\n",
      " 29.5  29.25 29.23 29.46 29.43 29.47]\n",
      "ResultSpeed\n",
      "[ 1.7  2.7 13.  13.3 11.7 12.9 10.4 10.1 11.2 14.4 13.8  8.6  8.5  2.5\n",
      "  3.9  0.7  2.  11.3 12.4 12.7  6.6  6.4 16.9 14.1  8.1  7.8  8.  10.5\n",
      "  5.4  3.4 11.1  6.3 10.  11.4 10.9 14.9  4.9  4.5  2.8  8.9  8.2  4.8\n",
      "  4.7  5.8 10.3  9.7  9.3  4.2  6.5  7.5  5.2  7.9  6.2 10.8  9.6 22.7\n",
      " 20.3  0.3  2.4  4.6  8.3  9.4  7.2  7.   5.6  5.9  4.1  3.8  2.1  4.\n",
      " 14.  12.2 10.7  3.5  3.7  7.6  7.3  6.1 11.9  7.4  5.1  9.5  6.7  3.1\n",
      "  4.3  3.2  3.3  8.4 12.6  8.8  9.1  1.4  1.2  4.4  7.7  1.9  2.9  1.1\n",
      "  3.  10.6  5.5  5.7  1.6  2.6  1.5  6.9  3.6  6.   0.5  5.3  9.   2.2\n",
      " 12.8  9.2 12.1  1.8  7.1  6.8 12.5  5.   9.8  2.3 11.5 15.1 14.6 17.2\n",
      " 15.5 16.2 17.7 18.  16.7 16.  13.9 14.5 10.2 14.3 13.7 19.2 13.2 21.1\n",
      " 11.8 16.1 14.8  8.7 11.6 13.6  1.  12.  17.5 13.4  9.9 11.   0.2 13.5\n",
      " 12.3  1.3  0.1  0.6  0.8 19.8 15.6 15.7 15.  14.7 15.3 14.2 17.4 16.6\n",
      " 15.2 24.1 21.8 20.8 17.  21.4 18.8 13.1 15.9  0.9 15.4 17.1 19.6 15.8\n",
      " 16.8 19.4 19.3 17.9  0.4 16.4 22.6 21.7]\n",
      "ResultDir\n",
      "[27 25  4  2  7  6  8 11 10 18 17  9  3 36  1 14 21 22 24 23 16 19 20  5\n",
      " 15 26 31 30 28 33 29 12 13 32 35 34]\n",
      "AvgSpeed\n",
      "[ 9.2  9.6 13.4 11.9 13.2 10.8 10.4 12.  11.5 15.  14.5 10.5  9.9  5.8\n",
      "  5.4  6.2  5.9  4.1  3.9 12.9 12.8 13.   8.1  7.6 17.3 14.6 12.3 12.2\n",
      " 11.8 11.3  7.5  5.5 11.4 10.7  9.7  8.2  7.8 10.2 10.6 11.2 15.2  8.8\n",
      "  7.2  9.5  5.3  5.2  6.5  7.4 10.1  6.4  6.7 23.1 20.7 13.8 12.4  5.\n",
      "  4.7  5.6  6.9  8.4 10.   8.6  nan  6.8  4.9  6.1  6.3 15.1 12.6  7.7\n",
      "  8.7  9.   8.   6.   7.1  8.5 12.5 13.3  8.3  7.3 13.1 12.7 10.9 11.1\n",
      " 13.9  6.6 14.4  9.1  3.3  3.5  4.   7.   9.4  7.9  5.7  4.3  4.6  3.7\n",
      " 11.7  4.4 12.1 13.5 13.7 11.   9.8  8.9 10.3 15.5 18.9 17.2 16.7 18.\n",
      " 18.2 16.8 14.1 14.7  4.2  9.3 14.3 17.7 17.8 15.9 19.3 17.4  3.8  4.8\n",
      " 14.  21.5 19.5 16.3  5.1  3.6  3.2  4.5  2.9  3.1  2.7 18.4 16.4 14.8\n",
      " 11.6 13.6  2.4  2.6  3.4  3.   2.1 20.2 14.9 16.2 15.4 17.9 14.2 15.3\n",
      " 15.7 16.1 18.8 17.1 16.6 26.3 21.4 23.2 22.1 15.6 16.9  2.   2.3  1.7\n",
      " 19.9 17.6 18.5 18.1 16.  15.8  2.8  1.9 22.9 22.6]\n"
     ]
    }
   ],
   "source": [
    "for col in weather_df.columns:\n",
    "    print(col)\n",
    "    print(weather_df[col].unique())"
   ]
  },
  {
   "cell_type": "code",
   "execution_count": 311,
   "metadata": {
    "collapsed": true
   },
   "outputs": [
    {
     "data": {
      "text/plain": [
       "Station           0\n",
       "Date              0\n",
       "Tmax              0\n",
       "Tmin              0\n",
       "Tavg             11\n",
       "Depart         1472\n",
       "DewPoint          0\n",
       "WetBulb           4\n",
       "Heat             11\n",
       "Cool             11\n",
       "Sunrise           0\n",
       "Sunset            0\n",
       "CodeSum           0\n",
       "Depth          1472\n",
       "Water1         2944\n",
       "SnowFall       1472\n",
       "PrecipTotal       2\n",
       "StnPressure       4\n",
       "SeaLevel          9\n",
       "ResultSpeed       0\n",
       "ResultDir         0\n",
       "AvgSpeed          3\n",
       "dtype: int64"
      ]
     },
     "execution_count": 311,
     "metadata": {},
     "output_type": "execute_result"
    }
   ],
   "source": [
    "weather_df.isnull().sum()"
   ]
  },
  {
   "cell_type": "markdown",
   "metadata": {},
   "source": [
    "# EDA"
   ]
  },
  {
   "cell_type": "code",
   "execution_count": null,
   "metadata": {},
   "outputs": [],
   "source": []
  }
 ],
 "metadata": {
  "kernelspec": {
   "display_name": "Python 3",
   "language": "python",
   "name": "python3"
  },
  "language_info": {
   "codemirror_mode": {
    "name": "ipython",
    "version": 3
   },
   "file_extension": ".py",
   "mimetype": "text/x-python",
   "name": "python",
   "nbconvert_exporter": "python",
   "pygments_lexer": "ipython3",
   "version": "3.7.6"
  }
 },
 "nbformat": 4,
 "nbformat_minor": 4
}
