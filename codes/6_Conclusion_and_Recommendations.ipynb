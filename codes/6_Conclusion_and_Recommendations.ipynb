{
 "cells": [
  {
   "cell_type": "markdown",
   "metadata": {},
   "source": [
    "# Project 4: West Nile Virus prediction\n",
    "#### Ivan Tan, Andy Chan, Jeremy Tan, Gan Hong Yee DSI-17 Singapore\n",
    "#### 15 October 2020\n",
    "\n",
    "#  6 Conclusions and Recommendations"
   ]
  },
  {
   "cell_type": "markdown",
   "metadata": {},
   "source": [
    "## Conclusions\n",
    "### Viable classification model\n",
    "After evaluating all the models, the final optimized model is the XGboost classifier with ROC AUC score to be 0.69, with the following parameters:\n",
    "- eval_metric='auc'\n",
    "- subsample = 1\n",
    "- colsample_bytree = .15\n",
    "- learning_rate = .05\n",
    "- max_depth=3\n",
    "- scale_pos_weight=19\n",
    "- n_estimators=500\n",
    "- reg_alpha=.9\n",
    "- reg_lambda= 5\n",
    "- gamma=0.01\n",
    "\n",
    "## Conclusions\n",
    "The team used its best perfoming model, XGBoost, to predict if certain mosquitoes species would be WNV positive in each trap and cluster. The model earned a kaggle score of 0.699, demonstrating a moderately good accuracy of 2014 prediction. It has a relatively low recall and a higher accuracy and ROC AOC score. \n",
    "From there, the team sought to find out when and where different species of mosquitoes would test positive for the West Nile Virus and to devise a cost-effective plan for spraying. Since a cost-effective spraying plan would try to achieve the maximum impact with the same or less amount of resources, the team sought to determine where will the most vulnerable areas be and the period of time where they should be spraying. These can be called the \"urgent clusters\".\n",
    "The team did a full analysis on weather conditions, spray dates/locations and the data collected from the various mosquito traps. \n",
    "\n",
    "**Where?**\n",
    "Based on the model prediction, the areas that requires highest attention are location around traps T900, T002, T008 and T225 as these are areas with the highest chance of an outbreak with large population of mosquitos. The secondary areas are traps with which the model predicts to have high probabilities of an outbreak. They are location around traps T009, T035, T009, T011, T073, T223, T082, T054, T102, T080, T235, T077, T226, T237, T156 and T076.\n",
    "This is illustrated in the map below.\n",
    "<img src=\"../assets/top_spray_clusters.png\" width=\"400\" height=\"800\">\n",
    "\n",
    "**Species?**\n",
    "The model also determined that the type of species determines how likely the mosquitoes are infected with WNV. Out of the top 7 determinants, 3 of them relates to the mosquitoes' species. Specifically, the most infectious species are **Culex Pipiens and Culex Restauns**.\n",
    "\n",
    "**When?**\n",
    "Based on our model, weather condition also has a direct correlation to the number of mosquitos and the presence of WNV. This is consistent with our EDA. Based on weather pattern which was also considered in our model, there is a peak during the months of **July and August**. This is also because it is summer period where conditions are very ideal for breeding. \n",
    "\n",
    "## Recommendations\n",
    "Areas For Main Stakeholders (Chicago City Council and Chicago Department of Public Health)\n",
    "Firstly, focus efforts on developing a systemic approach to spraying the pesticide. Then, evaluate and revise the spray plan accordingly. They should start by targeting the clusters as shown on the map above, denoted by the green ring.\n",
    "Secondly, they can conduct further research into the mosquito species of Culex Pipiens and Culex Restauns to find more effective ways of controlling their population.\n",
    "Lastly, step up efforts during summer, especially July-August period, as it has shown to control the population of the mosquito despite the heat. \n",
    "\n",
    "Areas for Data Scientists' expansion and future exploration:\n",
    "- Moving forward, the model can be continuously improved by introducing more new data to it. As this data is a highly imbalance one, ROC AUC and other metrics can be improved if more WNV positive information were introduced. Hence better predictions for us Data Scientist and stakeholders such as City of Chicago, biostatisticians and epidemiologists of CDC members and CDPH.\n",
    "- We recommend to take into consideration the inhabitants population density of the areas into the dataset in order to asses the importance of eradicating the mosquitos. This could provide important clues about the right choice of spraying and WNV detection rate.\n",
    "- Since our ROC AUC for the viable classification model is 0.69 based on Kaggle results, we can adjust the spray plan accordingly, to compensate the lower ROC AUC \n",
    "\n",
    "Areas for Data Scientists, together with biostatisticians and epidemiologists of CDC members and CDPH expansion and future exploration:\n",
    "- Data from other mosquito-borne illness such as more threatening Zika virus or Aedes aegypti can also be added to expand the model to not limited just to West Nile virus use. The model can be applied to more mosquito types, eventually making classification predictions for the entire mosquito illness in the future.\n",
    "- Lastly West Nile virus activity is also abserved high in Sacramento, Califronia. This model can be applied if surveillance and control program is implemented in Sacramento county and results of virus test on mosquitos collected is used to train the model algorithum for Sacramento Califronia prediction.\n",
    "\n",
    "Areas for CDPH and biostatisticians and epidemiologists of CDC members exploration:\n",
    "- Since one specie (Culex Pipiens, Culex Pipiens/Restuans) stands out as a carrier with higher rates of WNV, We suggest to increase efforts in preventing the proliferation of this specie in particular. This could be done with more specific and environmentally friendly measures (e.g. “targeted biological mosquito control”) which would make the process of lowering occurrences more efficient and less costly\n",
    "\n",
    "Areas for Chicago city's exploration for the general public:\n",
    "- We propose to invest efforts in prevention, starting from increasing awareness of the general population to not leave exposed untreated water (e.g. ponds and pools in their yard). Below are the recommended ways:\n",
    "    - Clean up standing water on residential property.\n",
    "    - Get rid of unnecessary debris, such as old tires, on residential and commercial property.\n",
    "    - At least twice a week, empty water from toys, buckets, birdbaths, swimming pool covers, and any other areas where water can collect.\n",
    "    - Drill holes in swing tires, and in the bottoms of recycling bins and other outside containers.\n",
    "    - Clean out rain gutters and make sure they drain properly.\n",
    "    - Where water cannot be emptied, the bacterial larvicide Bacillus thurigiensis israelensis is a least-toxic option.\n",
    "    - Turn garbage can covers right side up.\n",
    "    - Utilize safe repellents and other methods to protect against mosquito bites.\n",
    "    - Establish community-wide public awareness campaigns.\n",
    "\n",
    "## Future steps\n",
    "Now that we have proven the viability of classifying prediction model, the next step will be to implement the preprocessing and modeling pipeline as a weekly prediction for pesticide spray.\n",
    "\n",
    "## Limitations\n",
    "- Our model has an ROC AUC of 0.699 hence there will be risk and cost incurred for falsely spraying areas (ones that are not infested). The spray plan can still be adjusted accordingly.\n",
    "- This modeling process only works for binary classification. For Multi classification problems, the process will have to be modified and reevaluated."
   ]
  }
 ],
 "metadata": {
  "kernelspec": {
   "display_name": "Python 3",
   "language": "python",
   "name": "python3"
  },
  "language_info": {
   "codemirror_mode": {
    "name": "ipython",
    "version": 3
   },
   "file_extension": ".py",
   "mimetype": "text/x-python",
   "name": "python",
   "nbconvert_exporter": "python",
   "pygments_lexer": "ipython3",
   "version": "3.8.2"
  }
 },
 "nbformat": 4,
 "nbformat_minor": 4
}
